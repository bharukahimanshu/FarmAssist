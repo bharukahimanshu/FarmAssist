{
 "cells": [
  {
   "cell_type": "markdown",
   "metadata": {
    "id": "ElHiPzneAlDl"
   },
   "source": [
    "<b><h2> CROP YIELD PREDICTION IN INDIA </h2></b>"
   ]
  },
  {
   "cell_type": "code",
   "execution_count": 1,
   "metadata": {
    "id": "FtEIe2eNAvGG"
   },
   "outputs": [],
   "source": [
    "# importing necessary libraries \n",
    "import numpy as np\n",
    "import pandas as pd\n",
    "import matplotlib.pyplot as plt\n",
    "import seaborn as sns"
   ]
  },
  {
   "cell_type": "code",
   "execution_count": 2,
   "metadata": {
    "id": "QlFU5GzNCLGo"
   },
   "outputs": [
    {
     "data": {
      "text/html": [
       "<div>\n",
       "<style scoped>\n",
       "    .dataframe tbody tr th:only-of-type {\n",
       "        vertical-align: middle;\n",
       "    }\n",
       "\n",
       "    .dataframe tbody tr th {\n",
       "        vertical-align: top;\n",
       "    }\n",
       "\n",
       "    .dataframe thead th {\n",
       "        text-align: right;\n",
       "    }\n",
       "</style>\n",
       "<table border=\"1\" class=\"dataframe\">\n",
       "  <thead>\n",
       "    <tr style=\"text-align: right;\">\n",
       "      <th></th>\n",
       "      <th>District_Name</th>\n",
       "      <th>Year</th>\n",
       "      <th>State_Name</th>\n",
       "      <th>Season</th>\n",
       "      <th>Crop</th>\n",
       "      <th>Area</th>\n",
       "      <th>Production</th>\n",
       "      <th>Rainfall</th>\n",
       "      <th>Yield</th>\n",
       "      <th>Temperature</th>\n",
       "    </tr>\n",
       "  </thead>\n",
       "  <tbody>\n",
       "    <tr>\n",
       "      <th>0</th>\n",
       "      <td>Adilabad</td>\n",
       "      <td>2001</td>\n",
       "      <td>Telangana</td>\n",
       "      <td>Rabi</td>\n",
       "      <td>Sunflower</td>\n",
       "      <td>700.0</td>\n",
       "      <td>300.0</td>\n",
       "      <td>103.4</td>\n",
       "      <td>0.428571</td>\n",
       "      <td>24.191500</td>\n",
       "    </tr>\n",
       "    <tr>\n",
       "      <th>1</th>\n",
       "      <td>Adilabad</td>\n",
       "      <td>2001</td>\n",
       "      <td>Telangana</td>\n",
       "      <td>Rabi</td>\n",
       "      <td>Urad</td>\n",
       "      <td>700.0</td>\n",
       "      <td>300.0</td>\n",
       "      <td>103.4</td>\n",
       "      <td>0.428571</td>\n",
       "      <td>24.191500</td>\n",
       "    </tr>\n",
       "    <tr>\n",
       "      <th>2</th>\n",
       "      <td>Adilabad</td>\n",
       "      <td>2001</td>\n",
       "      <td>Telangana</td>\n",
       "      <td>Rabi</td>\n",
       "      <td>Wheat</td>\n",
       "      <td>2800.0</td>\n",
       "      <td>1600.0</td>\n",
       "      <td>103.4</td>\n",
       "      <td>0.571429</td>\n",
       "      <td>24.191500</td>\n",
       "    </tr>\n",
       "    <tr>\n",
       "      <th>3</th>\n",
       "      <td>Adilabad</td>\n",
       "      <td>2001</td>\n",
       "      <td>Telangana</td>\n",
       "      <td>Whole Year</td>\n",
       "      <td>Sugarcane</td>\n",
       "      <td>300.0</td>\n",
       "      <td>28800.0</td>\n",
       "      <td>1322.4</td>\n",
       "      <td>96.000000</td>\n",
       "      <td>27.897667</td>\n",
       "    </tr>\n",
       "    <tr>\n",
       "      <th>4</th>\n",
       "      <td>Adilabad</td>\n",
       "      <td>2001</td>\n",
       "      <td>Telangana</td>\n",
       "      <td>Whole Year</td>\n",
       "      <td>Tobacco</td>\n",
       "      <td>200.0</td>\n",
       "      <td>400.0</td>\n",
       "      <td>1322.4</td>\n",
       "      <td>2.000000</td>\n",
       "      <td>27.897667</td>\n",
       "    </tr>\n",
       "    <tr>\n",
       "      <th>...</th>\n",
       "      <td>...</td>\n",
       "      <td>...</td>\n",
       "      <td>...</td>\n",
       "      <td>...</td>\n",
       "      <td>...</td>\n",
       "      <td>...</td>\n",
       "      <td>...</td>\n",
       "      <td>...</td>\n",
       "      <td>...</td>\n",
       "      <td>...</td>\n",
       "    </tr>\n",
       "    <tr>\n",
       "      <th>164803</th>\n",
       "      <td>Zunheboto</td>\n",
       "      <td>2017</td>\n",
       "      <td>Nagaland</td>\n",
       "      <td>Kharif</td>\n",
       "      <td>Maize</td>\n",
       "      <td>10090.0</td>\n",
       "      <td>19950.0</td>\n",
       "      <td>1056.6</td>\n",
       "      <td>1.977205</td>\n",
       "      <td>22.526667</td>\n",
       "    </tr>\n",
       "    <tr>\n",
       "      <th>164804</th>\n",
       "      <td>Zunheboto</td>\n",
       "      <td>2017</td>\n",
       "      <td>Nagaland</td>\n",
       "      <td>Kharif</td>\n",
       "      <td>Mesta</td>\n",
       "      <td>210.0</td>\n",
       "      <td>220.0</td>\n",
       "      <td>1056.6</td>\n",
       "      <td>1.047619</td>\n",
       "      <td>22.526667</td>\n",
       "    </tr>\n",
       "    <tr>\n",
       "      <th>164805</th>\n",
       "      <td>Zunheboto</td>\n",
       "      <td>2017</td>\n",
       "      <td>Nagaland</td>\n",
       "      <td>Kharif</td>\n",
       "      <td>Moong(Green Gram)</td>\n",
       "      <td>20.0</td>\n",
       "      <td>20.0</td>\n",
       "      <td>1056.6</td>\n",
       "      <td>1.000000</td>\n",
       "      <td>22.526667</td>\n",
       "    </tr>\n",
       "    <tr>\n",
       "      <th>164806</th>\n",
       "      <td>Zunheboto</td>\n",
       "      <td>2017</td>\n",
       "      <td>Nagaland</td>\n",
       "      <td>Kharif</td>\n",
       "      <td>Oilseeds total</td>\n",
       "      <td>8170.0</td>\n",
       "      <td>10170.0</td>\n",
       "      <td>1056.6</td>\n",
       "      <td>1.244798</td>\n",
       "      <td>22.526667</td>\n",
       "    </tr>\n",
       "    <tr>\n",
       "      <th>164807</th>\n",
       "      <td>Zunheboto</td>\n",
       "      <td>2017</td>\n",
       "      <td>Nagaland</td>\n",
       "      <td>Kharif</td>\n",
       "      <td>Groundnut</td>\n",
       "      <td>120.0</td>\n",
       "      <td>120.0</td>\n",
       "      <td>1056.6</td>\n",
       "      <td>1.000000</td>\n",
       "      <td>22.526667</td>\n",
       "    </tr>\n",
       "  </tbody>\n",
       "</table>\n",
       "<p>164808 rows × 10 columns</p>\n",
       "</div>"
      ],
      "text/plain": [
       "       District_Name  Year  State_Name      Season               Crop  \\\n",
       "0           Adilabad  2001  Telangana         Rabi          Sunflower   \n",
       "1           Adilabad  2001  Telangana         Rabi               Urad   \n",
       "2           Adilabad  2001  Telangana         Rabi              Wheat   \n",
       "3           Adilabad  2001  Telangana   Whole Year          Sugarcane   \n",
       "4           Adilabad  2001  Telangana   Whole Year            Tobacco   \n",
       "...              ...   ...         ...         ...                ...   \n",
       "164803     Zunheboto  2017    Nagaland      Kharif              Maize   \n",
       "164804     Zunheboto  2017    Nagaland      Kharif              Mesta   \n",
       "164805     Zunheboto  2017    Nagaland      Kharif  Moong(Green Gram)   \n",
       "164806     Zunheboto  2017    Nagaland      Kharif     Oilseeds total   \n",
       "164807     Zunheboto  2017    Nagaland      Kharif          Groundnut   \n",
       "\n",
       "           Area  Production  Rainfall      Yield  Temperature  \n",
       "0         700.0       300.0     103.4   0.428571    24.191500  \n",
       "1         700.0       300.0     103.4   0.428571    24.191500  \n",
       "2        2800.0      1600.0     103.4   0.571429    24.191500  \n",
       "3         300.0     28800.0    1322.4  96.000000    27.897667  \n",
       "4         200.0       400.0    1322.4   2.000000    27.897667  \n",
       "...         ...         ...       ...        ...          ...  \n",
       "164803  10090.0     19950.0    1056.6   1.977205    22.526667  \n",
       "164804    210.0       220.0    1056.6   1.047619    22.526667  \n",
       "164805     20.0        20.0    1056.6   1.000000    22.526667  \n",
       "164806   8170.0     10170.0    1056.6   1.244798    22.526667  \n",
       "164807    120.0       120.0    1056.6   1.000000    22.526667  \n",
       "\n",
       "[164808 rows x 10 columns]"
      ]
     },
     "execution_count": 2,
     "metadata": {},
     "output_type": "execute_result"
    }
   ],
   "source": [
    "crop_data=pd.read_csv(\"../ML/Dataset Processed/crop_production_cleaned.csv\")\n",
    "crop_data"
   ]
  },
  {
   "cell_type": "code",
   "execution_count": 3,
   "metadata": {
    "colab": {
     "base_uri": "https://localhost:8080/"
    },
    "id": "TCCZqMyfI3qj",
    "outputId": "e4fddce3-468f-4689-dda1-98a6c779fa78"
   },
   "outputs": [
    {
     "data": {
      "text/plain": [
       "(164808, 10)"
      ]
     },
     "execution_count": 3,
     "metadata": {},
     "output_type": "execute_result"
    }
   ],
   "source": [
    "crop_data.shape"
   ]
  },
  {
   "cell_type": "code",
   "execution_count": 4,
   "metadata": {
    "colab": {
     "base_uri": "https://localhost:8080/",
     "height": 178
    },
    "id": "vJM7qEq3wEEb",
    "outputId": "a147e6db-4b6b-448c-c950-1a9dadb7ef5a"
   },
   "outputs": [
    {
     "data": {
      "text/plain": [
       "Index(['District_Name', 'Year', 'State_Name', 'Season', 'Crop', 'Area',\n",
       "       'Production', 'Rainfall', 'Yield', 'Temperature'],\n",
       "      dtype='object')"
      ]
     },
     "execution_count": 4,
     "metadata": {},
     "output_type": "execute_result"
    }
   ],
   "source": [
    "crop_data.columns"
   ]
  },
  {
   "cell_type": "code",
   "execution_count": 8,
   "metadata": {},
   "outputs": [
    {
     "data": {
      "text/plain": [
       "124"
      ]
     },
     "execution_count": 8,
     "metadata": {},
     "output_type": "execute_result"
    }
   ],
   "source": [
    "#find unique crop names\n",
    "crop_data['Crop'].nunique()"
   ]
  },
  {
   "cell_type": "code",
   "execution_count": 97,
   "metadata": {
    "colab": {
     "base_uri": "https://localhost:8080/",
     "height": 297
    },
    "id": "1xDyXRn_S-8I",
    "outputId": "c178c432-3227-4909-97ae-155d045df728"
   },
   "outputs": [
    {
     "data": {
      "text/html": [
       "<div>\n",
       "<style scoped>\n",
       "    .dataframe tbody tr th:only-of-type {\n",
       "        vertical-align: middle;\n",
       "    }\n",
       "\n",
       "    .dataframe tbody tr th {\n",
       "        vertical-align: top;\n",
       "    }\n",
       "\n",
       "    .dataframe thead th {\n",
       "        text-align: right;\n",
       "    }\n",
       "</style>\n",
       "<table border=\"1\" class=\"dataframe\">\n",
       "  <thead>\n",
       "    <tr style=\"text-align: right;\">\n",
       "      <th></th>\n",
       "      <th>Year</th>\n",
       "      <th>Area</th>\n",
       "      <th>Production</th>\n",
       "      <th>Rainfall</th>\n",
       "      <th>Yield</th>\n",
       "      <th>Temperature</th>\n",
       "    </tr>\n",
       "  </thead>\n",
       "  <tbody>\n",
       "    <tr>\n",
       "      <th>count</th>\n",
       "      <td>164808.000000</td>\n",
       "      <td>1.648080e+05</td>\n",
       "      <td>1.648080e+05</td>\n",
       "      <td>164808.000000</td>\n",
       "      <td>164808.000000</td>\n",
       "      <td>164808.000000</td>\n",
       "    </tr>\n",
       "    <tr>\n",
       "      <th>mean</th>\n",
       "      <td>2008.762760</td>\n",
       "      <td>1.263807e+04</td>\n",
       "      <td>2.140375e+05</td>\n",
       "      <td>548.103371</td>\n",
       "      <td>36.260204</td>\n",
       "      <td>25.503341</td>\n",
       "    </tr>\n",
       "    <tr>\n",
       "      <th>std</th>\n",
       "      <td>4.722639</td>\n",
       "      <td>3.955953e+04</td>\n",
       "      <td>8.751446e+06</td>\n",
       "      <td>516.775988</td>\n",
       "      <td>832.385199</td>\n",
       "      <td>3.452791</td>\n",
       "    </tr>\n",
       "    <tr>\n",
       "      <th>min</th>\n",
       "      <td>2001.000000</td>\n",
       "      <td>5.000000e-01</td>\n",
       "      <td>0.000000e+00</td>\n",
       "      <td>0.000000</td>\n",
       "      <td>0.000000</td>\n",
       "      <td>-0.873750</td>\n",
       "    </tr>\n",
       "    <tr>\n",
       "      <th>25%</th>\n",
       "      <td>2005.000000</td>\n",
       "      <td>8.600000e+01</td>\n",
       "      <td>8.600000e+01</td>\n",
       "      <td>123.800000</td>\n",
       "      <td>0.500000</td>\n",
       "      <td>23.158750</td>\n",
       "    </tr>\n",
       "    <tr>\n",
       "      <th>50%</th>\n",
       "      <td>2009.000000</td>\n",
       "      <td>6.430000e+02</td>\n",
       "      <td>7.540000e+02</td>\n",
       "      <td>442.500000</td>\n",
       "      <td>1.000000</td>\n",
       "      <td>26.524000</td>\n",
       "    </tr>\n",
       "    <tr>\n",
       "      <th>75%</th>\n",
       "      <td>2013.000000</td>\n",
       "      <td>4.947000e+03</td>\n",
       "      <td>7.400000e+03</td>\n",
       "      <td>826.900000</td>\n",
       "      <td>2.285714</td>\n",
       "      <td>28.087877</td>\n",
       "    </tr>\n",
       "    <tr>\n",
       "      <th>max</th>\n",
       "      <td>2018.000000</td>\n",
       "      <td>1.020181e+06</td>\n",
       "      <td>1.250800e+09</td>\n",
       "      <td>4878.300000</td>\n",
       "      <td>88000.000000</td>\n",
       "      <td>32.618750</td>\n",
       "    </tr>\n",
       "  </tbody>\n",
       "</table>\n",
       "</div>"
      ],
      "text/plain": [
       "                Year          Area    Production       Rainfall  \\\n",
       "count  164808.000000  1.648080e+05  1.648080e+05  164808.000000   \n",
       "mean     2008.762760  1.263807e+04  2.140375e+05     548.103371   \n",
       "std         4.722639  3.955953e+04  8.751446e+06     516.775988   \n",
       "min      2001.000000  5.000000e-01  0.000000e+00       0.000000   \n",
       "25%      2005.000000  8.600000e+01  8.600000e+01     123.800000   \n",
       "50%      2009.000000  6.430000e+02  7.540000e+02     442.500000   \n",
       "75%      2013.000000  4.947000e+03  7.400000e+03     826.900000   \n",
       "max      2018.000000  1.020181e+06  1.250800e+09    4878.300000   \n",
       "\n",
       "               Yield    Temperature  \n",
       "count  164808.000000  164808.000000  \n",
       "mean       36.260204      25.503341  \n",
       "std       832.385199       3.452791  \n",
       "min         0.000000      -0.873750  \n",
       "25%         0.500000      23.158750  \n",
       "50%         1.000000      26.524000  \n",
       "75%         2.285714      28.087877  \n",
       "max     88000.000000      32.618750  "
      ]
     },
     "execution_count": 97,
     "metadata": {},
     "output_type": "execute_result"
    }
   ],
   "source": [
    "crop_data.describe()"
   ]
  },
  {
   "cell_type": "code",
   "execution_count": 98,
   "metadata": {
    "colab": {
     "base_uri": "https://localhost:8080/"
    },
    "id": "etWFlfIWWdbC",
    "outputId": "da1e9f9d-7be3-4f1e-82c5-2c13d90d6004"
   },
   "outputs": [
    {
     "data": {
      "text/plain": [
       "District_Name    0\n",
       "Year             0\n",
       "State_Name       0\n",
       "Season           0\n",
       "Crop             0\n",
       "Area             0\n",
       "Production       0\n",
       "Rainfall         0\n",
       "Yield            0\n",
       "Temperature      0\n",
       "dtype: int64"
      ]
     },
     "execution_count": 98,
     "metadata": {},
     "output_type": "execute_result"
    }
   ],
   "source": [
    "crop_data.isnull().sum()"
   ]
  },
  {
   "cell_type": "code",
   "execution_count": 99,
   "metadata": {
    "id": "yiGXMLevMBpN"
   },
   "outputs": [],
   "source": [
    "data = crop_data.drop(['State_Name'], axis = 1)"
   ]
  },
  {
   "cell_type": "code",
   "execution_count": 100,
   "metadata": {},
   "outputs": [
    {
     "data": {
      "text/html": [
       "<div>\n",
       "<style scoped>\n",
       "    .dataframe tbody tr th:only-of-type {\n",
       "        vertical-align: middle;\n",
       "    }\n",
       "\n",
       "    .dataframe tbody tr th {\n",
       "        vertical-align: top;\n",
       "    }\n",
       "\n",
       "    .dataframe thead th {\n",
       "        text-align: right;\n",
       "    }\n",
       "</style>\n",
       "<table border=\"1\" class=\"dataframe\">\n",
       "  <thead>\n",
       "    <tr style=\"text-align: right;\">\n",
       "      <th></th>\n",
       "      <th>Year</th>\n",
       "      <th>Area</th>\n",
       "      <th>Production</th>\n",
       "      <th>Rainfall</th>\n",
       "      <th>Yield</th>\n",
       "      <th>Temperature</th>\n",
       "    </tr>\n",
       "  </thead>\n",
       "  <tbody>\n",
       "    <tr>\n",
       "      <th>Year</th>\n",
       "      <td>1.000000</td>\n",
       "      <td>-0.004339</td>\n",
       "      <td>0.011605</td>\n",
       "      <td>-0.081892</td>\n",
       "      <td>0.013196</td>\n",
       "      <td>-0.002478</td>\n",
       "    </tr>\n",
       "    <tr>\n",
       "      <th>Area</th>\n",
       "      <td>-0.004339</td>\n",
       "      <td>1.000000</td>\n",
       "      <td>0.022484</td>\n",
       "      <td>-0.094853</td>\n",
       "      <td>-0.007417</td>\n",
       "      <td>-0.052841</td>\n",
       "    </tr>\n",
       "    <tr>\n",
       "      <th>Production</th>\n",
       "      <td>0.011605</td>\n",
       "      <td>0.022484</td>\n",
       "      <td>1.000000</td>\n",
       "      <td>0.024372</td>\n",
       "      <td>0.316388</td>\n",
       "      <td>0.023721</td>\n",
       "    </tr>\n",
       "    <tr>\n",
       "      <th>Rainfall</th>\n",
       "      <td>-0.081892</td>\n",
       "      <td>-0.094853</td>\n",
       "      <td>0.024372</td>\n",
       "      <td>1.000000</td>\n",
       "      <td>0.060400</td>\n",
       "      <td>0.411663</td>\n",
       "    </tr>\n",
       "    <tr>\n",
       "      <th>Yield</th>\n",
       "      <td>0.013196</td>\n",
       "      <td>-0.007417</td>\n",
       "      <td>0.316388</td>\n",
       "      <td>0.060400</td>\n",
       "      <td>1.000000</td>\n",
       "      <td>0.034362</td>\n",
       "    </tr>\n",
       "    <tr>\n",
       "      <th>Temperature</th>\n",
       "      <td>-0.002478</td>\n",
       "      <td>-0.052841</td>\n",
       "      <td>0.023721</td>\n",
       "      <td>0.411663</td>\n",
       "      <td>0.034362</td>\n",
       "      <td>1.000000</td>\n",
       "    </tr>\n",
       "  </tbody>\n",
       "</table>\n",
       "</div>"
      ],
      "text/plain": [
       "                 Year      Area  Production  Rainfall     Yield  Temperature\n",
       "Year         1.000000 -0.004339    0.011605 -0.081892  0.013196    -0.002478\n",
       "Area        -0.004339  1.000000    0.022484 -0.094853 -0.007417    -0.052841\n",
       "Production   0.011605  0.022484    1.000000  0.024372  0.316388     0.023721\n",
       "Rainfall    -0.081892 -0.094853    0.024372  1.000000  0.060400     0.411663\n",
       "Yield        0.013196 -0.007417    0.316388  0.060400  1.000000     0.034362\n",
       "Temperature -0.002478 -0.052841    0.023721  0.411663  0.034362     1.000000"
      ]
     },
     "execution_count": 100,
     "metadata": {},
     "output_type": "execute_result"
    }
   ],
   "source": [
    "data.corr(numeric_only=True)"
   ]
  },
  {
   "cell_type": "code",
   "execution_count": 101,
   "metadata": {},
   "outputs": [
    {
     "data": {
      "text/plain": [
       "Text(0.5, 1.0, 'Correlation Matrix')"
      ]
     },
     "execution_count": 101,
     "metadata": {},
     "output_type": "execute_result"
    },
    {
     "data": {
      "image/png": "[encoded data removed]",
      "text/plain": [
       "<Figure size 640x480 with 2 Axes>"
      ]
     },
     "metadata": {},
     "output_type": "display_data"
    }
   ],
   "source": [
    "sns.heatmap(data.corr(numeric_only=True), annot =True)\n",
    "plt.title('Correlation Matrix')"
   ]
  },
  {
   "cell_type": "code",
   "execution_count": 102,
   "metadata": {
    "colab": {
     "base_uri": "https://localhost:8080/",
     "height": 473
    },
    "id": "5D80WMCwKLaY",
    "outputId": "e5bb1da9-4574-4461-b2ca-059224571f68"
   },
   "outputs": [
    {
     "data": {
      "text/html": [
       "<div>\n",
       "<style scoped>\n",
       "    .dataframe tbody tr th:only-of-type {\n",
       "        vertical-align: middle;\n",
       "    }\n",
       "\n",
       "    .dataframe tbody tr th {\n",
       "        vertical-align: top;\n",
       "    }\n",
       "\n",
       "    .dataframe thead th {\n",
       "        text-align: right;\n",
       "    }\n",
       "</style>\n",
       "<table border=\"1\" class=\"dataframe\">\n",
       "  <thead>\n",
       "    <tr style=\"text-align: right;\">\n",
       "      <th></th>\n",
       "      <th>Year</th>\n",
       "      <th>Area</th>\n",
       "      <th>Production</th>\n",
       "      <th>Rainfall</th>\n",
       "      <th>Yield</th>\n",
       "      <th>Temperature</th>\n",
       "      <th>District_Name_Adilabad</th>\n",
       "      <th>District_Name_Agra</th>\n",
       "      <th>District_Name_Ahmadabad</th>\n",
       "      <th>District_Name_Ajmer</th>\n",
       "      <th>...</th>\n",
       "      <th>Crop_Turmeric</th>\n",
       "      <th>Crop_Turnip</th>\n",
       "      <th>Crop_Urad</th>\n",
       "      <th>Crop_Varagu</th>\n",
       "      <th>Crop_Water Melon</th>\n",
       "      <th>Crop_Wheat</th>\n",
       "      <th>Crop_Yam</th>\n",
       "      <th>Crop_other fibres</th>\n",
       "      <th>Crop_other misc. pulses</th>\n",
       "      <th>Crop_other oilseeds</th>\n",
       "    </tr>\n",
       "  </thead>\n",
       "  <tbody>\n",
       "    <tr>\n",
       "      <th>0</th>\n",
       "      <td>2001</td>\n",
       "      <td>700.0</td>\n",
       "      <td>300.0</td>\n",
       "      <td>103.4</td>\n",
       "      <td>0.428571</td>\n",
       "      <td>24.191500</td>\n",
       "      <td>1</td>\n",
       "      <td>0</td>\n",
       "      <td>0</td>\n",
       "      <td>0</td>\n",
       "      <td>...</td>\n",
       "      <td>0</td>\n",
       "      <td>0</td>\n",
       "      <td>0</td>\n",
       "      <td>0</td>\n",
       "      <td>0</td>\n",
       "      <td>0</td>\n",
       "      <td>0</td>\n",
       "      <td>0</td>\n",
       "      <td>0</td>\n",
       "      <td>0</td>\n",
       "    </tr>\n",
       "    <tr>\n",
       "      <th>1</th>\n",
       "      <td>2001</td>\n",
       "      <td>700.0</td>\n",
       "      <td>300.0</td>\n",
       "      <td>103.4</td>\n",
       "      <td>0.428571</td>\n",
       "      <td>24.191500</td>\n",
       "      <td>1</td>\n",
       "      <td>0</td>\n",
       "      <td>0</td>\n",
       "      <td>0</td>\n",
       "      <td>...</td>\n",
       "      <td>0</td>\n",
       "      <td>0</td>\n",
       "      <td>1</td>\n",
       "      <td>0</td>\n",
       "      <td>0</td>\n",
       "      <td>0</td>\n",
       "      <td>0</td>\n",
       "      <td>0</td>\n",
       "      <td>0</td>\n",
       "      <td>0</td>\n",
       "    </tr>\n",
       "    <tr>\n",
       "      <th>2</th>\n",
       "      <td>2001</td>\n",
       "      <td>2800.0</td>\n",
       "      <td>1600.0</td>\n",
       "      <td>103.4</td>\n",
       "      <td>0.571429</td>\n",
       "      <td>24.191500</td>\n",
       "      <td>1</td>\n",
       "      <td>0</td>\n",
       "      <td>0</td>\n",
       "      <td>0</td>\n",
       "      <td>...</td>\n",
       "      <td>0</td>\n",
       "      <td>0</td>\n",
       "      <td>0</td>\n",
       "      <td>0</td>\n",
       "      <td>0</td>\n",
       "      <td>1</td>\n",
       "      <td>0</td>\n",
       "      <td>0</td>\n",
       "      <td>0</td>\n",
       "      <td>0</td>\n",
       "    </tr>\n",
       "    <tr>\n",
       "      <th>3</th>\n",
       "      <td>2001</td>\n",
       "      <td>300.0</td>\n",
       "      <td>28800.0</td>\n",
       "      <td>1322.4</td>\n",
       "      <td>96.000000</td>\n",
       "      <td>27.897667</td>\n",
       "      <td>1</td>\n",
       "      <td>0</td>\n",
       "      <td>0</td>\n",
       "      <td>0</td>\n",
       "      <td>...</td>\n",
       "      <td>0</td>\n",
       "      <td>0</td>\n",
       "      <td>0</td>\n",
       "      <td>0</td>\n",
       "      <td>0</td>\n",
       "      <td>0</td>\n",
       "      <td>0</td>\n",
       "      <td>0</td>\n",
       "      <td>0</td>\n",
       "      <td>0</td>\n",
       "    </tr>\n",
       "    <tr>\n",
       "      <th>4</th>\n",
       "      <td>2001</td>\n",
       "      <td>200.0</td>\n",
       "      <td>400.0</td>\n",
       "      <td>1322.4</td>\n",
       "      <td>2.000000</td>\n",
       "      <td>27.897667</td>\n",
       "      <td>1</td>\n",
       "      <td>0</td>\n",
       "      <td>0</td>\n",
       "      <td>0</td>\n",
       "      <td>...</td>\n",
       "      <td>0</td>\n",
       "      <td>0</td>\n",
       "      <td>0</td>\n",
       "      <td>0</td>\n",
       "      <td>0</td>\n",
       "      <td>0</td>\n",
       "      <td>0</td>\n",
       "      <td>0</td>\n",
       "      <td>0</td>\n",
       "      <td>0</td>\n",
       "    </tr>\n",
       "    <tr>\n",
       "      <th>...</th>\n",
       "      <td>...</td>\n",
       "      <td>...</td>\n",
       "      <td>...</td>\n",
       "      <td>...</td>\n",
       "      <td>...</td>\n",
       "      <td>...</td>\n",
       "      <td>...</td>\n",
       "      <td>...</td>\n",
       "      <td>...</td>\n",
       "      <td>...</td>\n",
       "      <td>...</td>\n",
       "      <td>...</td>\n",
       "      <td>...</td>\n",
       "      <td>...</td>\n",
       "      <td>...</td>\n",
       "      <td>...</td>\n",
       "      <td>...</td>\n",
       "      <td>...</td>\n",
       "      <td>...</td>\n",
       "      <td>...</td>\n",
       "      <td>...</td>\n",
       "    </tr>\n",
       "    <tr>\n",
       "      <th>164803</th>\n",
       "      <td>2017</td>\n",
       "      <td>10090.0</td>\n",
       "      <td>19950.0</td>\n",
       "      <td>1056.6</td>\n",
       "      <td>1.977205</td>\n",
       "      <td>22.526667</td>\n",
       "      <td>0</td>\n",
       "      <td>0</td>\n",
       "      <td>0</td>\n",
       "      <td>0</td>\n",
       "      <td>...</td>\n",
       "      <td>0</td>\n",
       "      <td>0</td>\n",
       "      <td>0</td>\n",
       "      <td>0</td>\n",
       "      <td>0</td>\n",
       "      <td>0</td>\n",
       "      <td>0</td>\n",
       "      <td>0</td>\n",
       "      <td>0</td>\n",
       "      <td>0</td>\n",
       "    </tr>\n",
       "    <tr>\n",
       "      <th>164804</th>\n",
       "      <td>2017</td>\n",
       "      <td>210.0</td>\n",
       "      <td>220.0</td>\n",
       "      <td>1056.6</td>\n",
       "      <td>1.047619</td>\n",
       "      <td>22.526667</td>\n",
       "      <td>0</td>\n",
       "      <td>0</td>\n",
       "      <td>0</td>\n",
       "      <td>0</td>\n",
       "      <td>...</td>\n",
       "      <td>0</td>\n",
       "      <td>0</td>\n",
       "      <td>0</td>\n",
       "      <td>0</td>\n",
       "      <td>0</td>\n",
       "      <td>0</td>\n",
       "      <td>0</td>\n",
       "      <td>0</td>\n",
       "      <td>0</td>\n",
       "      <td>0</td>\n",
       "    </tr>\n",
       "    <tr>\n",
       "      <th>164805</th>\n",
       "      <td>2017</td>\n",
       "      <td>20.0</td>\n",
       "      <td>20.0</td>\n",
       "      <td>1056.6</td>\n",
       "      <td>1.000000</td>\n",
       "      <td>22.526667</td>\n",
       "      <td>0</td>\n",
       "      <td>0</td>\n",
       "      <td>0</td>\n",
       "      <td>0</td>\n",
       "      <td>...</td>\n",
       "      <td>0</td>\n",
       "      <td>0</td>\n",
       "      <td>0</td>\n",
       "      <td>0</td>\n",
       "      <td>0</td>\n",
       "      <td>0</td>\n",
       "      <td>0</td>\n",
       "      <td>0</td>\n",
       "      <td>0</td>\n",
       "      <td>0</td>\n",
       "    </tr>\n",
       "    <tr>\n",
       "      <th>164806</th>\n",
       "      <td>2017</td>\n",
       "      <td>8170.0</td>\n",
       "      <td>10170.0</td>\n",
       "      <td>1056.6</td>\n",
       "      <td>1.244798</td>\n",
       "      <td>22.526667</td>\n",
       "      <td>0</td>\n",
       "      <td>0</td>\n",
       "      <td>0</td>\n",
       "      <td>0</td>\n",
       "      <td>...</td>\n",
       "      <td>0</td>\n",
       "      <td>0</td>\n",
       "      <td>0</td>\n",
       "      <td>0</td>\n",
       "      <td>0</td>\n",
       "      <td>0</td>\n",
       "      <td>0</td>\n",
       "      <td>0</td>\n",
       "      <td>0</td>\n",
       "      <td>0</td>\n",
       "    </tr>\n",
       "    <tr>\n",
       "      <th>164807</th>\n",
       "      <td>2017</td>\n",
       "      <td>120.0</td>\n",
       "      <td>120.0</td>\n",
       "      <td>1056.6</td>\n",
       "      <td>1.000000</td>\n",
       "      <td>22.526667</td>\n",
       "      <td>0</td>\n",
       "      <td>0</td>\n",
       "      <td>0</td>\n",
       "      <td>0</td>\n",
       "      <td>...</td>\n",
       "      <td>0</td>\n",
       "      <td>0</td>\n",
       "      <td>0</td>\n",
       "      <td>0</td>\n",
       "      <td>0</td>\n",
       "      <td>0</td>\n",
       "      <td>0</td>\n",
       "      <td>0</td>\n",
       "      <td>0</td>\n",
       "      <td>0</td>\n",
       "    </tr>\n",
       "  </tbody>\n",
       "</table>\n",
       "<p>164808 rows × 539 columns</p>\n",
       "</div>"
      ],
      "text/plain": [
       "        Year     Area  Production  Rainfall      Yield  Temperature  \\\n",
       "0       2001    700.0       300.0     103.4   0.428571    24.191500   \n",
       "1       2001    700.0       300.0     103.4   0.428571    24.191500   \n",
       "2       2001   2800.0      1600.0     103.4   0.571429    24.191500   \n",
       "3       2001    300.0     28800.0    1322.4  96.000000    27.897667   \n",
       "4       2001    200.0       400.0    1322.4   2.000000    27.897667   \n",
       "...      ...      ...         ...       ...        ...          ...   \n",
       "164803  2017  10090.0     19950.0    1056.6   1.977205    22.526667   \n",
       "164804  2017    210.0       220.0    1056.6   1.047619    22.526667   \n",
       "164805  2017     20.0        20.0    1056.6   1.000000    22.526667   \n",
       "164806  2017   8170.0     10170.0    1056.6   1.244798    22.526667   \n",
       "164807  2017    120.0       120.0    1056.6   1.000000    22.526667   \n",
       "\n",
       "        District_Name_Adilabad  District_Name_Agra  District_Name_Ahmadabad  \\\n",
       "0                            1                   0                        0   \n",
       "1                            1                   0                        0   \n",
       "2                            1                   0                        0   \n",
       "3                            1                   0                        0   \n",
       "4                            1                   0                        0   \n",
       "...                        ...                 ...                      ...   \n",
       "164803                       0                   0                        0   \n",
       "164804                       0                   0                        0   \n",
       "164805                       0                   0                        0   \n",
       "164806                       0                   0                        0   \n",
       "164807                       0                   0                        0   \n",
       "\n",
       "        District_Name_Ajmer  ...  Crop_Turmeric  Crop_Turnip  Crop_Urad  \\\n",
       "0                         0  ...              0            0          0   \n",
       "1                         0  ...              0            0          1   \n",
       "2                         0  ...              0            0          0   \n",
       "3                         0  ...              0            0          0   \n",
       "4                         0  ...              0            0          0   \n",
       "...                     ...  ...            ...          ...        ...   \n",
       "164803                    0  ...              0            0          0   \n",
       "164804                    0  ...              0            0          0   \n",
       "164805                    0  ...              0            0          0   \n",
       "164806                    0  ...              0            0          0   \n",
       "164807                    0  ...              0            0          0   \n",
       "\n",
       "        Crop_Varagu  Crop_Water Melon  Crop_Wheat  Crop_Yam  \\\n",
       "0                 0                 0           0         0   \n",
       "1                 0                 0           0         0   \n",
       "2                 0                 0           1         0   \n",
       "3                 0                 0           0         0   \n",
       "4                 0                 0           0         0   \n",
       "...             ...               ...         ...       ...   \n",
       "164803            0                 0           0         0   \n",
       "164804            0                 0           0         0   \n",
       "164805            0                 0           0         0   \n",
       "164806            0                 0           0         0   \n",
       "164807            0                 0           0         0   \n",
       "\n",
       "        Crop_other fibres  Crop_other misc. pulses  Crop_other oilseeds  \n",
       "0                       0                        0                    0  \n",
       "1                       0                        0                    0  \n",
       "2                       0                        0                    0  \n",
       "3                       0                        0                    0  \n",
       "4                       0                        0                    0  \n",
       "...                   ...                      ...                  ...  \n",
       "164803                  0                        0                    0  \n",
       "164804                  0                        0                    0  \n",
       "164805                  0                        0                    0  \n",
       "164806                  0                        0                    0  \n",
       "164807                  0                        0                    0  \n",
       "\n",
       "[164808 rows x 539 columns]"
      ]
     },
     "execution_count": 102,
     "metadata": {},
     "output_type": "execute_result"
    }
   ],
   "source": [
    "dummy = pd.get_dummies(data)\n",
    "dummy\n"
   ]
  },
  {
   "cell_type": "code",
   "execution_count": 104,
   "metadata": {},
   "outputs": [],
   "source": [
    "#remove district_name from dummy columns name\n",
    "dummy.columns = dummy.columns.str.replace('District_Name_', '')\n",
    "dummy.columns=dummy.columns.str.replace('Crop_', '')\n",
    "dummy.columns=dummy.columns.str.replace('Season_', '')"
   ]
  },
  {
   "cell_type": "markdown",
   "metadata": {
    "id": "WcKWxtwOQ2oP"
   },
   "source": [
    "<b><i> Splitting dataset into train and test dataset </i></b>"
   ]
  },
  {
   "cell_type": "code",
   "execution_count": 105,
   "metadata": {
    "colab": {
     "base_uri": "https://localhost:8080/"
    },
    "id": "N2D3e349PCmJ",
    "outputId": "2b462e1f-7dc2-472b-e46d-559d038de1f4"
   },
   "outputs": [
    {
     "name": "stdout",
     "output_type": "stream",
     "text": [
      "x_train : (123606, 537)\n",
      "x_test : (41202, 537)\n",
      "y_train : (123606,)\n",
      "y_test : (41202,)\n"
     ]
    }
   ],
   "source": [
    "\n",
    "from sklearn.model_selection import train_test_split\n",
    "\n",
    "x = dummy.drop([\"Production\",\"Yield\"], axis=1)\n",
    "y = dummy[\"Production\"]\n",
    "\n",
    "# Splitting data set - 25% test dataset and 75% \n",
    "\n",
    "x_train,x_test,y_train,y_test = train_test_split(x,y,test_size=0.25, random_state=5)\n",
    "\n",
    "print(\"x_train :\",x_train.shape)\n",
    "print(\"x_test :\",x_test.shape)\n",
    "print(\"y_train :\",y_train.shape)\n",
    "print(\"y_test :\",y_test.shape)"
   ]
  },
  {
   "cell_type": "code",
   "execution_count": 130,
   "metadata": {},
   "outputs": [],
   "source": [
    "import json\n",
    "cols = x.columns\n",
    "with open('columns.json', 'w') as f:\n",
    "    json.dump(cols.tolist(), f)\n"
   ]
  },
  {
   "cell_type": "code",
   "execution_count": 106,
   "metadata": {},
   "outputs": [
    {
     "name": "stdout",
     "output_type": "stream",
     "text": [
      "        Year     Area  Rainfall  Temperature  Adilabad  Agra  Ahmadabad  \\\n",
      "135357  2010     36.0     147.2     25.72200         0     0          0   \n",
      "82200   2012    117.0     355.7     29.13125         0     0          0   \n",
      "52623   2013  21503.0     301.2     27.60900         0     0          0   \n",
      "51564   2005    428.0     123.8     30.24125         0     0          0   \n",
      "91658   2008    670.0     327.2     24.58175         0     0          0   \n",
      "\n",
      "        Ajmer  Akola  Aligarh  ...  Turmeric  Turnip  Urad  Varagu  \\\n",
      "135357      0      0        0  ...         0       0     0       0   \n",
      "82200       0      0        0  ...         0       0     0       0   \n",
      "52623       0      0        0  ...         0       0     0       0   \n",
      "51564       0      0        0  ...         0       0     0       0   \n",
      "91658       0      0        0  ...         0       0     1       0   \n",
      "\n",
      "        Water Melon  Wheat  Yam  other fibres  other misc. pulses  \\\n",
      "135357            0      0    0             0                   0   \n",
      "82200             0      0    0             0                   0   \n",
      "52623             0      0    0             0                   0   \n",
      "51564             0      0    0             0                   0   \n",
      "91658             0      0    0             0                   0   \n",
      "\n",
      "        other oilseeds  \n",
      "135357               0  \n",
      "82200                0  \n",
      "52623                0  \n",
      "51564                0  \n",
      "91658                0  \n",
      "\n",
      "[5 rows x 537 columns]\n",
      "135357       26.0\n",
      "82200        46.8\n",
      "52623     20506.0\n",
      "51564      4785.0\n",
      "91658       421.0\n",
      "Name: Production, dtype: float64\n"
     ]
    }
   ],
   "source": [
    "print(x_train.head())\n",
    "print(y_train.head())"
   ]
  },
  {
   "cell_type": "markdown",
   "metadata": {
    "id": "wOm0Nbu4hgcW"
   },
   "source": [
    "<b><h3> Linear Regression </b></h3>"
   ]
  },
  {
   "cell_type": "code",
   "execution_count": 107,
   "metadata": {
    "id": "QcmEJiH6hhBd"
   },
   "outputs": [
    {
     "data": {
      "text/html": [
       "<style>#sk-container-id-4 {color: black;background-color: white;}#sk-container-id-4 pre{padding: 0;}#sk-container-id-4 div.sk-toggleable {background-color: white;}#sk-container-id-4 label.sk-toggleable__label {cursor: pointer;display: block;width: 100%;margin-bottom: 0;padding: 0.3em;box-sizing: border-box;text-align: center;}#sk-container-id-4 label.sk-toggleable__label-arrow:before {content: \"▸\";float: left;margin-right: 0.25em;color: #696969;}#sk-container-id-4 label.sk-toggleable__label-arrow:hover:before {color: black;}#sk-container-id-4 div.sk-estimator:hover label.sk-toggleable__label-arrow:before {color: black;}#sk-container-id-4 div.sk-toggleable__content {max-height: 0;max-width: 0;overflow: hidden;text-align: left;background-color: #f0f8ff;}#sk-container-id-4 div.sk-toggleable__content pre {margin: 0.2em;color: black;border-radius: 0.25em;background-color: #f0f8ff;}#sk-container-id-4 input.sk-toggleable__control:checked~div.sk-toggleable__content {max-height: 200px;max-width: 100%;overflow: auto;}#sk-container-id-4 input.sk-toggleable__control:checked~label.sk-toggleable__label-arrow:before {content: \"▾\";}#sk-container-id-4 div.sk-estimator input.sk-toggleable__control:checked~label.sk-toggleable__label {background-color: #d4ebff;}#sk-container-id-4 div.sk-label input.sk-toggleable__control:checked~label.sk-toggleable__label {background-color: #d4ebff;}#sk-container-id-4 input.sk-hidden--visually {border: 0;clip: rect(1px 1px 1px 1px);clip: rect(1px, 1px, 1px, 1px);height: 1px;margin: -1px;overflow: hidden;padding: 0;position: absolute;width: 1px;}#sk-container-id-4 div.sk-estimator {font-family: monospace;background-color: #f0f8ff;border: 1px dotted black;border-radius: 0.25em;box-sizing: border-box;margin-bottom: 0.5em;}#sk-container-id-4 div.sk-estimator:hover {background-color: #d4ebff;}#sk-container-id-4 div.sk-parallel-item::after {content: \"\";width: 100%;border-bottom: 1px solid gray;flex-grow: 1;}#sk-container-id-4 div.sk-label:hover label.sk-toggleable__label {background-color: #d4ebff;}#sk-container-id-4 div.sk-serial::before {content: \"\";position: absolute;border-left: 1px solid gray;box-sizing: border-box;top: 0;bottom: 0;left: 50%;z-index: 0;}#sk-container-id-4 div.sk-serial {display: flex;flex-direction: column;align-items: center;background-color: white;padding-right: 0.2em;padding-left: 0.2em;position: relative;}#sk-container-id-4 div.sk-item {position: relative;z-index: 1;}#sk-container-id-4 div.sk-parallel {display: flex;align-items: stretch;justify-content: center;background-color: white;position: relative;}#sk-container-id-4 div.sk-item::before, #sk-container-id-4 div.sk-parallel-item::before {content: \"\";position: absolute;border-left: 1px solid gray;box-sizing: border-box;top: 0;bottom: 0;left: 50%;z-index: -1;}#sk-container-id-4 div.sk-parallel-item {display: flex;flex-direction: column;z-index: 1;position: relative;background-color: white;}#sk-container-id-4 div.sk-parallel-item:first-child::after {align-self: flex-end;width: 50%;}#sk-container-id-4 div.sk-parallel-item:last-child::after {align-self: flex-start;width: 50%;}#sk-container-id-4 div.sk-parallel-item:only-child::after {width: 0;}#sk-container-id-4 div.sk-dashed-wrapped {border: 1px dashed gray;margin: 0 0.4em 0.5em 0.4em;box-sizing: border-box;padding-bottom: 0.4em;background-color: white;}#sk-container-id-4 div.sk-label label {font-family: monospace;font-weight: bold;display: inline-block;line-height: 1.2em;}#sk-container-id-4 div.sk-label-container {text-align: center;}#sk-container-id-4 div.sk-container {/* jupyter's `normalize.less` sets `[hidden] { display: none; }` but bootstrap.min.css set `[hidden] { display: none !important; }` so we also need the `!important` here to be able to override the default hidden behavior on the sphinx rendered scikit-learn.org. See: https://github.com/scikit-learn/scikit-learn/issues/21755 */display: inline-block !important;position: relative;}#sk-container-id-4 div.sk-text-repr-fallback {display: none;}</style><div id=\"sk-container-id-4\" class=\"sk-top-container\"><div class=\"sk-text-repr-fallback\"><pre>LinearRegression()</pre><b>In a Jupyter environment, please rerun this cell to show the HTML representation or trust the notebook. <br />On GitHub, the HTML representation is unable to render, please try loading this page with nbviewer.org.</b></div><div class=\"sk-container\" hidden><div class=\"sk-item\"><div class=\"sk-estimator sk-toggleable\"><input class=\"sk-toggleable__control sk-hidden--visually\" id=\"sk-estimator-id-4\" type=\"checkbox\" checked><label for=\"sk-estimator-id-4\" class=\"sk-toggleable__label sk-toggleable__label-arrow\">LinearRegression</label><div class=\"sk-toggleable__content\"><pre>LinearRegression()</pre></div></div></div></div></div>"
      ],
      "text/plain": [
       "LinearRegression()"
      ]
     },
     "execution_count": 107,
     "metadata": {},
     "output_type": "execute_result"
    }
   ],
   "source": [
    "# Training the Simple Linear Regression model .\n",
    "\n",
    "from sklearn.linear_model import LinearRegression\n",
    "model = LinearRegression()\n",
    "model.fit(x_train,y_train)"
   ]
  },
  {
   "cell_type": "code",
   "execution_count": 108,
   "metadata": {
    "id": "hGfrNaaAhtzX"
   },
   "outputs": [
    {
     "data": {
      "text/plain": [
       "array([  28168.51171875,  307049.68554688,  -93118.52539062, ...,\n",
       "        -78694.88476562,  -47256.96484375, -230251.75585938])"
      ]
     },
     "execution_count": 108,
     "metadata": {},
     "output_type": "execute_result"
    }
   ],
   "source": [
    "# Predicting the test Results \n",
    "\n",
    "lr_predict = model.predict(x_test)\n",
    "lr_predict"
   ]
  },
  {
   "cell_type": "code",
   "execution_count": 109,
   "metadata": {
    "id": "nYQUatD7hwCM"
   },
   "outputs": [
    {
     "data": {
      "text/plain": [
       "0.0523219756049389"
      ]
     },
     "execution_count": 109,
     "metadata": {},
     "output_type": "execute_result"
    }
   ],
   "source": [
    "model.score(x_test,y_test)"
   ]
  },
  {
   "cell_type": "code",
   "execution_count": 110,
   "metadata": {},
   "outputs": [
    {
     "name": "stdout",
     "output_type": "stream",
     "text": [
      "R2 score :  0.0523219756049389\n"
     ]
    }
   ],
   "source": [
    "from sklearn.metrics import r2_score\n",
    "r = r2_score(y_test,lr_predict)\n",
    "print(\"R2 score : \",r)"
   ]
  },
  {
   "cell_type": "code",
   "execution_count": 111,
   "metadata": {},
   "outputs": [
    {
     "data": {
      "text/plain": [
       "Text(0.5, 1.0, 'Linear Regression')"
      ]
     },
     "execution_count": 111,
     "metadata": {},
     "output_type": "execute_result"
    },
    {
     "data": {
      "image/png": "[encoded data removed]",
      "text/plain": [
       "<Figure size 640x480 with 1 Axes>"
      ]
     },
     "metadata": {},
     "output_type": "display_data"
    }
   ],
   "source": [
    "plt.scatter(y_test,lr_predict)\n",
    "plt.xlabel('Actual')\n",
    "plt.ylabel('Predicted')\n",
    "plt.title('Linear Regression')"
   ]
  },
  {
   "cell_type": "markdown",
   "metadata": {},
   "source": [
    "Clearly, the dataset is not good for linear regression.\n"
   ]
  },
  {
   "cell_type": "markdown",
   "metadata": {
    "id": "VQd1SuR8YKie"
   },
   "source": [
    "<b><h3> Random Forest Algorithm </h3></b>"
   ]
  },
  {
   "cell_type": "code",
   "execution_count": 112,
   "metadata": {
    "id": "mw2Uwu7iKSrt"
   },
   "outputs": [
    {
     "data": {
      "text/plain": [
       "array([41972.36363636,   473.78181818,    80.90909091, ...,\n",
       "        4856.63636364,   927.48181818, 22088.90909091])"
      ]
     },
     "execution_count": 112,
     "metadata": {},
     "output_type": "execute_result"
    }
   ],
   "source": [
    "from sklearn.ensemble import RandomForestRegressor\n",
    "model = RandomForestRegressor(n_estimators = 11,random_state=1)\n",
    "model.fit(x_train,y_train)\n",
    "rf_predict_train = model.predict(x_train)\n",
    "rf_predict = model.predict(x_test)\n",
    "rf_predict"
   ]
  },
  {
   "cell_type": "code",
   "execution_count": 113,
   "metadata": {},
   "outputs": [
    {
     "data": {
      "text/plain": [
       "0.8740888545063199"
      ]
     },
     "execution_count": 113,
     "metadata": {},
     "output_type": "execute_result"
    }
   ],
   "source": [
    "model.score(x_test, y_test)"
   ]
  },
  {
   "cell_type": "code",
   "execution_count": 114,
   "metadata": {},
   "outputs": [],
   "source": [
    "import pickle\n",
    "pickle.dump(model,open('../backend/Models/Yield.pkl','wb'))"
   ]
  },
  {
   "cell_type": "code",
   "execution_count": 115,
   "metadata": {},
   "outputs": [
    {
     "data": {
      "text/plain": [
       "array([ 391.81818182,  286.72727273, 2710.63636364, ...,   19.09090909,\n",
       "       8178.45454545,  141.90909091])"
      ]
     },
     "execution_count": 115,
     "metadata": {},
     "output_type": "execute_result"
    }
   ],
   "source": [
    "model.predict(x)"
   ]
  },
  {
   "cell_type": "code",
   "execution_count": 116,
   "metadata": {},
   "outputs": [
    {
     "name": "stdout",
     "output_type": "stream",
     "text": [
      "R2 score :  0.9557304489900449\n"
     ]
    }
   ],
   "source": [
    "from sklearn.metrics import r2_score\n",
    "r1 = r2_score(y_train,rf_predict_train)\n",
    "print(\"R2 score : \",r1)"
   ]
  },
  {
   "cell_type": "code",
   "execution_count": 117,
   "metadata": {},
   "outputs": [
    {
     "name": "stdout",
     "output_type": "stream",
     "text": [
      "R2 score :  0.8740888545063199\n"
     ]
    }
   ],
   "source": [
    "from sklearn.metrics import r2_score\n",
    "r1 = r2_score(y_test,rf_predict)\n",
    "print(\"R2 score : \",r1)"
   ]
  },
  {
   "cell_type": "code",
   "execution_count": 118,
   "metadata": {},
   "outputs": [
    {
     "name": "stdout",
     "output_type": "stream",
     "text": [
      "Adj. R-Squared : 0.8724260991175213\n"
     ]
    }
   ],
   "source": [
    "Adjr2_1 = 1 - (1-r1)*(len(y_test)-1)/(len(y_test)-x_test.shape[1]-1)\n",
    "print(\"Adj. R-Squared : {}\".format(Adjr2_1))"
   ]
  },
  {
   "cell_type": "markdown",
   "metadata": {},
   "source": [
    "<b> Comparison between Linear Regression Algorithm and Random Forest Algorithm </b> "
   ]
  },
  {
   "cell_type": "markdown",
   "metadata": {},
   "source": [
    "\n",
    "\n",
    "1. Linear regression algorithm is not at all accurate for this kind of prediction.\n",
    "2. Random Forest Algorithm has higher accuracy ( between 85 % to 90% ), but it is slow."
   ]
  },
  {
   "cell_type": "markdown",
   "metadata": {},
   "source": [
    "<b> Support Vector Regression </b> "
   ]
  },
  {
   "cell_type": "code",
   "execution_count": 119,
   "metadata": {},
   "outputs": [
    {
     "data": {
      "text/plain": [
       "array([44532.,   737.,    57., ...,  6437.,  1429., 16033.])"
      ]
     },
     "execution_count": 119,
     "metadata": {},
     "output_type": "execute_result"
    }
   ],
   "source": [
    "# Training model \n",
    "from sklearn.tree import DecisionTreeRegressor\n",
    "regressor = DecisionTreeRegressor(random_state = 5)\n",
    "regressor.fit(x_train,y_train)\n",
    "\n",
    "# Predicting results\n",
    "decisiontree_predict = regressor.predict(x_test)\n",
    "decisiontree_predict"
   ]
  },
  {
   "cell_type": "code",
   "execution_count": 120,
   "metadata": {},
   "outputs": [
    {
     "data": {
      "text/plain": [
       "0.9441493805662039"
      ]
     },
     "execution_count": 120,
     "metadata": {},
     "output_type": "execute_result"
    }
   ],
   "source": [
    "regressor.score(x_test,y_test)"
   ]
  },
  {
   "cell_type": "code",
   "execution_count": 121,
   "metadata": {},
   "outputs": [
    {
     "name": "stdout",
     "output_type": "stream",
     "text": [
      "R2 score :  0.9441493805662039\n"
     ]
    }
   ],
   "source": [
    "# Calculating R2 score :\n",
    "from sklearn.metrics import r2_score\n",
    "r2 = r2_score(y_test,decisiontree_predict)\n",
    "print(\"R2 score : \",r2)"
   ]
  },
  {
   "cell_type": "code",
   "execution_count": 122,
   "metadata": {},
   "outputs": [
    {
     "name": "stdout",
     "output_type": "stream",
     "text": [
      "Adj. R-Squared : 0.039807144326654775\n"
     ]
    }
   ],
   "source": [
    "# Calculating Adj. R2 score: \n",
    "\n",
    "Adjr2_2 = 1 - (1-r)*(len(y_test)-1)/(len(y_test)-x_test.shape[1]-1)\n",
    "print(\"Adj. R-Squared : {}\".format(Adjr2_2))"
   ]
  },
  {
   "cell_type": "code",
   "execution_count": 123,
   "metadata": {},
   "outputs": [],
   "source": [
    "import pickle\n",
    "pickle.dump(regressor,open('../backend/Models/DecisionTree.pkl','wb'))"
   ]
  },
  {
   "cell_type": "code",
   "execution_count": 125,
   "metadata": {},
   "outputs": [
    {
     "data": {
      "text/plain": [
       "Text(0.5, 1.0, 'R2 Score of Random Forest and Decision Tree')"
      ]
     },
     "execution_count": 125,
     "metadata": {},
     "output_type": "execute_result"
    },
    {
     "data": {
      "image/png": "[encoded data removed]",
      "text/plain": [
       "<Figure size 640x480 with 1 Axes>"
      ]
     },
     "metadata": {},
     "output_type": "display_data"
    }
   ],
   "source": [
    "#plot the r2 score of random forest and decision tree\n",
    "plt.bar(['Random Forest','Decision Tree'],[r1,r2])\n",
    "plt.xlabel('Model')\n",
    "plt.ylabel('R2 Score')\n",
    "plt.title('R2 Score of Random Forest and Decision Tree')    "
   ]
  },
  {
   "cell_type": "code",
   "execution_count": 126,
   "metadata": {},
   "outputs": [
    {
     "data": {
      "text/plain": [
       "Text(0.5, 1.0, 'Mean Squared Error of Random Forest and Decision Tree')"
      ]
     },
     "execution_count": 126,
     "metadata": {},
     "output_type": "execute_result"
    },
    {
     "data": {
      "image/png": "[encoded data removed]",
      "text/plain": [
       "<Figure size 640x480 with 1 Axes>"
      ]
     },
     "metadata": {},
     "output_type": "display_data"
    }
   ],
   "source": [
    "#plot mean squared error of random forest and decision tree\n",
    "from sklearn.metrics import mean_squared_error\n",
    "plt.bar(['Random Forest','Decision Tree'],[mean_squared_error(y_test,rf_predict),mean_squared_error(y_test,decisiontree_predict)])\n",
    "plt.xlabel('Model')\n",
    "plt.ylabel('Mean Squared Error')\n",
    "plt.title('Mean Squared Error of Random Forest and Decision Tree')"
   ]
  },
  {
   "cell_type": "code",
   "execution_count": 127,
   "metadata": {},
   "outputs": [
    {
     "data": {
      "text/plain": [
       "Text(0.5, 1.0, 'Mean Absolute Error of Random Forest and Decision Tree')"
      ]
     },
     "execution_count": 127,
     "metadata": {},
     "output_type": "execute_result"
    },
    {
     "data": {
      "image/png": "[encoded data removed]",
      "text/plain": [
       "<Figure size 640x480 with 1 Axes>"
      ]
     },
     "metadata": {},
     "output_type": "display_data"
    }
   ],
   "source": [
    "#plot mean absolute error of random forest and decision tree\n",
    "from sklearn.metrics import mean_absolute_error\n",
    "plt.bar(['Random Forest','Decision Tree'],[mean_absolute_error(y_test,rf_predict),mean_absolute_error(y_test,decisiontree_predict)])\n",
    "plt.xlabel('Model')\n",
    "plt.ylabel('Mean Absolute Error')\n",
    "plt.title('Mean Absolute Error of Random Forest and Decision Tree')"
   ]
  },
  {
   "cell_type": "code",
   "execution_count": null,
   "metadata": {},
   "outputs": [],
   "source": []
  }
 ],
 "metadata": {
  "colab": {
   "collapsed_sections": [],
   "name": "CropYieldPrediction.ipynb",
   "provenance": []
  },
  "kernelspec": {
   "display_name": "Python 3.9.10 64-bit",
   "language": "python",
   "name": "python3"
  },
  "language_info": {
   "codemirror_mode": {
    "name": "ipython",
    "version": 3
   },
   "file_extension": ".py",
   "mimetype": "text/x-python",
   "name": "python",
   "nbconvert_exporter": "python",
   "pygments_lexer": "ipython3",
   "version": "3.10.7"
  },
  "vscode": {
   "interpreter": {
    "hash": "74896034db1845be5000ed9314487ee297f444d1b9bf6f172497bb9704b8efa0"
   }
  }
 },
 "nbformat": 4,
 "nbformat_minor": 1
}
